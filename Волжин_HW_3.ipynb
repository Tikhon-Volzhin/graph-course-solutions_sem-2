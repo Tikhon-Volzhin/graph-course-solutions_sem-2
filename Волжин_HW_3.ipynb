{
  "cells": [
    {
      "cell_type": "markdown",
      "source": [
        "# Задание 1. Найти графовый набор данных для решения задачи предсказания (классификация вершин, обнаружение сообществ и т.д.)."
      ],
      "metadata": {
        "id": "2Y-suvoNWvy1"
      }
    },
    {
      "cell_type": "code",
      "execution_count": 1,
      "metadata": {
        "colab": {
          "base_uri": "https://localhost:8080/"
        },
        "id": "rOmOU71E0yFb",
        "outputId": "d404e1f0-a5c0-4df5-ba5c-8fed6251a2b5"
      },
      "outputs": [
        {
          "output_type": "stream",
          "name": "stdout",
          "text": [
            "  Installing build dependencies ... \u001b[?25l\u001b[?25hdone\n",
            "  Getting requirements to build wheel ... \u001b[?25l\u001b[?25hdone\n",
            "  Preparing metadata (pyproject.toml) ... \u001b[?25l\u001b[?25hdone\n"
          ]
        }
      ],
      "source": [
        "!pip install -q git+https://github.com/pyg-team/pytorch_geometric.git"
      ]
    },
    {
      "cell_type": "code",
      "source": [
        "import torch\n",
        "import torch.nn as nn\n",
        "import numpy as np\n",
        "import torch.nn.functional as F\n",
        "from torch_geometric.nn import GCNConv\n",
        "import torch.optim as optim\n",
        "from sklearn.model_selection import train_test_split\n",
        "from torch_geometric.datasets import Planetoid\n",
        "\n",
        "dataset = Planetoid(root='/tmp/Cora', name='Cora')\n",
        "data = dataset[0]"
      ],
      "metadata": {
        "id": "n-_oTy0eWt7S"
      },
      "execution_count": 2,
      "outputs": []
    },
    {
      "cell_type": "code",
      "source": [
        "data"
      ],
      "metadata": {
        "colab": {
          "base_uri": "https://localhost:8080/"
        },
        "id": "KCPOtIxDXDTy",
        "outputId": "0de946fa-1f58-46a8-c45f-bbc6bd438468"
      },
      "execution_count": 3,
      "outputs": [
        {
          "output_type": "execute_result",
          "data": {
            "text/plain": [
              "Data(x=[2708, 1433], edge_index=[2, 10556], y=[2708], train_mask=[2708], val_mask=[2708], test_mask=[2708])"
            ]
          },
          "metadata": {},
          "execution_count": 3
        }
      ]
    },
    {
      "cell_type": "markdown",
      "metadata": {
        "id": "wnDmIFOz7gHj"
      },
      "source": [
        "# Задание 2. Использовать несколько слоев GCNConv из библиотеки PyG для построения GCN модели."
      ]
    },
    {
      "cell_type": "code",
      "execution_count": 4,
      "metadata": {
        "id": "nz8aVjVr1q4S"
      },
      "outputs": [],
      "source": [
        "class GCNModel(nn.Module):\n",
        "    def __init__(self, in_channels, hidden_channels, out_channels):\n",
        "        super().__init__()\n",
        "        self.conv1 = GCNConv(in_channels, hidden_channels)\n",
        "        self.conv2 = GCNConv(hidden_channels, out_channels)\n",
        "\n",
        "    def forward(self, data):\n",
        "        x, edge_index = data.x, data.edge_index\n",
        "        x = self.conv1(x, edge_index)\n",
        "        x = F.relu(x)\n",
        "        x = F.dropout(x, training=self.training)\n",
        "        x = self.conv2(x, edge_index)\n",
        "        return F.log_softmax(x, dim=1)"
      ]
    },
    {
      "cell_type": "code",
      "source": [
        "# device = torch.device('cuda' if torch.cuda.is_available() else 'cpu')\n",
        "device = torch.device('cpu')\n",
        "\n",
        "model = GCNModel(in_channels=dataset.num_node_features, hidden_channels=16, out_channels=dataset.num_classes).to(device)"
      ],
      "metadata": {
        "id": "TXG24xcJYjJs"
      },
      "execution_count": 5,
      "outputs": []
    },
    {
      "cell_type": "code",
      "source": [
        "device"
      ],
      "metadata": {
        "colab": {
          "base_uri": "https://localhost:8080/"
        },
        "id": "1rPSuNBoZF1I",
        "outputId": "8cafc60a-09c4-4d28-834c-991d48e239a6"
      },
      "execution_count": 6,
      "outputs": [
        {
          "output_type": "execute_result",
          "data": {
            "text/plain": [
              "device(type='cpu')"
            ]
          },
          "metadata": {},
          "execution_count": 6
        }
      ]
    },
    {
      "cell_type": "code",
      "source": [
        "model"
      ],
      "metadata": {
        "colab": {
          "base_uri": "https://localhost:8080/"
        },
        "id": "srQXRN1KYPQu",
        "outputId": "ef21465e-4821-495f-b753-bd8ec16c360d"
      },
      "execution_count": 7,
      "outputs": [
        {
          "output_type": "execute_result",
          "data": {
            "text/plain": [
              "GCNModel(\n",
              "  (conv1): GCNConv(1433, 16)\n",
              "  (conv2): GCNConv(16, 7)\n",
              ")"
            ]
          },
          "metadata": {},
          "execution_count": 7
        }
      ]
    },
    {
      "cell_type": "markdown",
      "source": [
        "# Задание 3. Обучить полученную модель, подобрать гиперпараметры (например, learning rate) на валидационной выборке, и оценить качество предсказания на тестовой выборке."
      ],
      "metadata": {
        "id": "fiynZbteZwkV"
      }
    },
    {
      "cell_type": "code",
      "source": [
        "data = data.to(device)\n",
        "\n",
        "optimizer = optim.Adam(model.parameters(), lr=1e-2)\n",
        "\n",
        "for epoch in range(200):\n",
        "    model.train()\n",
        "    optimizer.zero_grad()\n",
        "\n",
        "    out = model(data)\n",
        "    loss = F.nll_loss(out[data.train_mask], data.y[data.train_mask])\n",
        "    loss.backward()\n",
        "    optimizer.step()\n",
        "    train_loss = loss.item()\n",
        "\n",
        "    if epoch % 30 == 0:\n",
        "        model.eval()\n",
        "        with torch.no_grad():\n",
        "            pred = model(data).argmax(dim=1)\n",
        "        correct = pred[data.train_mask] == data.y[data.train_mask]\n",
        "        train_acc = int(correct.sum()) / data.train_mask.sum().item()\n",
        "        correct = pred[data.val_mask] == data.y[data.val_mask]\n",
        "        val_acc = int(correct.sum()) / data.val_mask.sum().item()\n",
        "        print(f'Epoch {epoch}: Train loss: {train_loss:.4f}, Train acc: {train_acc:.4f}, Val acc: {val_acc:.4f}')\n",
        "\n",
        "model.eval()\n",
        "with torch.no_grad():\n",
        "    pred = model(data).argmax(dim=1)\n",
        "    correct = pred[data.test_mask] == data.y[data.test_mask]\n",
        "    test_acc = int(correct.sum()) / data.test_mask.sum().item()\n",
        "print(f'Test accuracy: {test_acc:.4f}')"
      ],
      "metadata": {
        "colab": {
          "base_uri": "https://localhost:8080/"
        },
        "id": "oLP4_B86ZLuE",
        "outputId": "d09736f1-5057-427f-8c61-73845ad3ff70"
      },
      "execution_count": 8,
      "outputs": [
        {
          "output_type": "stream",
          "name": "stdout",
          "text": [
            "Epoch 0: Train loss: 1.9437, Train acc: 0.6357, Val acc: 0.3760\n",
            "Epoch 30: Train loss: 0.0865, Train acc: 1.0000, Val acc: 0.7600\n",
            "Epoch 60: Train loss: 0.0323, Train acc: 1.0000, Val acc: 0.7600\n",
            "Epoch 90: Train loss: 0.0195, Train acc: 1.0000, Val acc: 0.7620\n",
            "Epoch 120: Train loss: 0.0306, Train acc: 1.0000, Val acc: 0.7640\n",
            "Epoch 150: Train loss: 0.0086, Train acc: 1.0000, Val acc: 0.7620\n",
            "Epoch 180: Train loss: 0.0198, Train acc: 1.0000, Val acc: 0.7640\n",
            "Test accuracy: 0.7700\n"
          ]
        }
      ]
    },
    {
      "cell_type": "markdown",
      "source": [
        "# Задание 4. Также представить самостоятельную реализацию слоя GCNConv, используя матричные операции. Повторить обучение с собственными слоями и сравнить результаты."
      ],
      "metadata": {
        "id": "0_sfpc5ifHnv"
      }
    },
    {
      "cell_type": "code",
      "source": [
        "class CustomGCNConv(nn.Module):\n",
        "    def __init__(self, in_params, out_params):\n",
        "        super().__init__()\n",
        "        self.W = np.random.randn(in_params, out_params)\n",
        "        self.b = np.zeros((1, out_params))\n",
        "        self.A, self.X = None, None\n",
        "\n",
        "    def forward(self, X, A):\n",
        "        self.A = A\n",
        "        self.X = X\n",
        "        #подсчет лапласиана\n",
        "        D = np.diag(np.sum(A, axis = 1))\n",
        "        D_sqrt = np.sqrt(D)\n",
        "        D_inv = np.linalg.pinv(D_sqrt)\n",
        "        I = np.identity(len(A))\n",
        "        L = I - np.dot(D_inv, np.dot(A, D_inv))\n",
        "        return np.dot(np.dot(L, self.X), self.W) + self.b\n",
        "\n",
        "    def backward(self, er, lr):\n",
        "        D = np.diag(np.sum(self.A, axis = 1))\n",
        "        D_sqrt = np.sqrt(D)\n",
        "        D_inv = np.linalg.pinv(D_sqrt)\n",
        "        I = np.identity(len(self.A))\n",
        "        L = I - np.dot(D_inv, np.dot(self.A, D_inv))\n",
        "        out_data = np.dot(self.X.T, L)\n",
        "        gradW = np.dot(out_data, er)\n",
        "        gradb = np.sum(er, axis = 0, keepdims = True)\n",
        "        self.W -= lr * gradW\n",
        "        self.b -= lr * gradb\n",
        "        return np.dot(L.T, np.dot(er, self.W.T))"
      ],
      "metadata": {
        "id": "6G3oujcdh_bc"
      },
      "execution_count": 9,
      "outputs": []
    },
    {
      "cell_type": "code",
      "source": [
        "class CustomGCNModel(nn.Module):\n",
        "    def __init__(self, in_channels, hidden_channels, out_channels):\n",
        "        super().__init__()\n",
        "        self.conv1 = CustomGCNConv(in_channels, hidden_channels)\n",
        "        self.conv2 = CustomGCNConv(hidden_channels, out_channels)\n",
        "\n",
        "    def forward(self, x, edge_index):\n",
        "        x = self.conv1(x, edge_index)\n",
        "        x = x * (x > 0)\n",
        "        x = self.conv2(x, edge_index)\n",
        "        exp_x = np.exp(x - np.max(x, axis=-1, keepdims=True))\n",
        "        return exp_x / np.sum(exp_x, axis=-1, keepdims=True)\n",
        "\n",
        "    def backward(self, y, y_p, alpha = 0.01):\n",
        "        er = (y_p - y) / y.shape[0]\n",
        "        grad2 = self.conv2.backward(er, alpha)\n",
        "        grad1 = self.conv1.backward(grad2, alpha)\n",
        "        return grad1, grad2"
      ],
      "metadata": {
        "id": "Yoz50pCVbkW9"
      },
      "execution_count": 10,
      "outputs": []
    },
    {
      "cell_type": "code",
      "source": [
        "model = CustomGCNModel(in_channels=dataset.num_node_features, hidden_channels=16, out_channels=dataset.num_classes).to(device)"
      ],
      "metadata": {
        "id": "OyHDHLXifoWk"
      },
      "execution_count": 11,
      "outputs": []
    },
    {
      "cell_type": "code",
      "source": [
        "A = np.zeros((data.num_nodes, data.num_nodes))\n",
        "edge_index = data.edge_index.cpu().numpy()\n",
        "A[edge_index[0], edge_index[1]] = 1\n",
        "A[edge_index[1], edge_index[0]] = 1"
      ],
      "metadata": {
        "id": "fTRzVI1Mf28A"
      },
      "execution_count": 12,
      "outputs": []
    },
    {
      "cell_type": "code",
      "source": [
        "y = data.y.cpu().numpy()\n",
        "y = np.eye(len(np.unique(data.y.cpu().numpy())))[y]"
      ],
      "metadata": {
        "id": "oSrYIF4yf7xZ"
      },
      "execution_count": 13,
      "outputs": []
    },
    {
      "cell_type": "code",
      "source": [
        "def cross_entropy(y, p):\n",
        "  return - np.mean(np.sum(y * np.log(p + 1e-8), axis = 1))"
      ],
      "metadata": {
        "id": "ciD6ZevSmybF"
      },
      "execution_count": 14,
      "outputs": []
    },
    {
      "cell_type": "code",
      "source": [
        "for epoch in range(1, 10):\n",
        "    out = model.forward(data.x, A)\n",
        "    loss = cross_entropy(y[data.train_mask], out[data.train_mask])\n",
        "    if epoch % 1 == 0:\n",
        "      print(f'epoch: {epoch}, loss = {loss}')\n",
        "    model.backward(y, out, alpha = 0.1)"
      ],
      "metadata": {
        "colab": {
          "base_uri": "https://localhost:8080/"
        },
        "id": "UWvC8Vhskl4s",
        "outputId": "5b45ac40-8011-448c-9587-867214103bf8"
      },
      "execution_count": null,
      "outputs": [
        {
          "output_type": "stream",
          "name": "stdout",
          "text": [
            "epoch: 1, loss = 12.370691550266892\n",
            "epoch: 2, loss = 12.263503769796005\n"
          ]
        }
      ]
    },
    {
      "cell_type": "markdown",
      "source": [],
      "metadata": {
        "id": "QyxRmgiIneB-"
      }
    },
    {
      "cell_type": "code",
      "source": [
        "Вывод: обучение идет дольше из-за отсутствия перегона в numpy, сильных различий по качеству нет - оба метода показывают наличие обучения"
      ],
      "metadata": {
        "id": "DfcFwwJdnczw"
      },
      "execution_count": null,
      "outputs": []
    }
  ],
  "metadata": {
    "colab": {
      "provenance": [],
      "gpuType": "T4"
    },
    "kernelspec": {
      "display_name": "Python 3",
      "name": "python3"
    },
    "language_info": {
      "name": "python"
    },
    "accelerator": "GPU"
  },
  "nbformat": 4,
  "nbformat_minor": 0
}