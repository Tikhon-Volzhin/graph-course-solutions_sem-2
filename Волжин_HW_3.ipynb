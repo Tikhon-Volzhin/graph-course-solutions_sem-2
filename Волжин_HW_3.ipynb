{
  "cells": [
    {
      "cell_type": "markdown",
      "metadata": {
        "id": "2Y-suvoNWvy1"
      },
      "source": [
        "# Задание 1. Найти графовый набор данных для решения задачи предсказания (классификация вершин, обнаружение сообществ и т.д.)."
      ]
    },
    {
      "cell_type": "code",
      "execution_count": 1,
      "metadata": {
        "colab": {
          "base_uri": "https://localhost:8080/"
        },
        "id": "rOmOU71E0yFb",
        "outputId": "e112c4e3-36bd-4483-fa32-19c139769dda"
      },
      "outputs": [
        {
          "name": "stdout",
          "output_type": "stream",
          "text": [
            "  Installing build dependencies ... \u001b[?25l\u001b[?25hdone\n",
            "  Getting requirements to build wheel ... \u001b[?25l\u001b[?25hdone\n",
            "  Preparing metadata (pyproject.toml) ... \u001b[?25l\u001b[?25hdone\n"
          ]
        }
      ],
      "source": [
        "!pip install -q git+https://github.com/pyg-team/pytorch_geometric.git"
      ]
    },
    {
      "cell_type": "code",
      "execution_count": 2,
      "metadata": {
        "id": "n-_oTy0eWt7S"
      },
      "outputs": [],
      "source": [
        "import torch\n",
        "import torch.nn as nn\n",
        "import numpy as np\n",
        "import torch.nn.functional as F\n",
        "from torch_geometric.nn import GCNConv\n",
        "import torch.optim as optim\n",
        "from sklearn.model_selection import train_test_split\n",
        "from torch_geometric.datasets import Planetoid\n",
        "\n",
        "dataset = Planetoid(root='/tmp/Cora', name='Cora')\n",
        "data = dataset[0]"
      ]
    },
    {
      "cell_type": "code",
      "execution_count": 3,
      "metadata": {
        "colab": {
          "base_uri": "https://localhost:8080/"
        },
        "id": "KCPOtIxDXDTy",
        "outputId": "e8a46669-1a06-459a-9be6-3b52df3e524f"
      },
      "outputs": [
        {
          "data": {
            "text/plain": [
              "Data(x=[2708, 1433], edge_index=[2, 10556], y=[2708], train_mask=[2708], val_mask=[2708], test_mask=[2708])"
            ]
          },
          "execution_count": 3,
          "metadata": {},
          "output_type": "execute_result"
        }
      ],
      "source": [
        "data"
      ]
    },
    {
      "cell_type": "markdown",
      "metadata": {
        "id": "wnDmIFOz7gHj"
      },
      "source": [
        "# Задание 2. Использовать несколько слоев GCNConv из библиотеки PyG для построения GCN модели."
      ]
    },
    {
      "cell_type": "code",
      "execution_count": 4,
      "metadata": {
        "id": "nz8aVjVr1q4S"
      },
      "outputs": [],
      "source": [
        "class GCNModel(nn.Module):\n",
        "    def __init__(self, in_channels, hidden_channels, out_channels):\n",
        "        super().__init__()\n",
        "        self.conv1 = GCNConv(in_channels, hidden_channels)\n",
        "        self.conv2 = GCNConv(hidden_channels, out_channels)\n",
        "\n",
        "    def forward(self, data):\n",
        "        x, edge_index = data.x, data.edge_index\n",
        "        x = self.conv1(x, edge_index)\n",
        "        x = F.relu(x)\n",
        "        x = F.dropout(x, training=self.training)\n",
        "        x = self.conv2(x, edge_index)\n",
        "        return F.log_softmax(x, dim=1)"
      ]
    },
    {
      "cell_type": "code",
      "execution_count": 5,
      "metadata": {
        "id": "TXG24xcJYjJs"
      },
      "outputs": [],
      "source": [
        "# device = torch.device('cuda' if torch.cuda.is_available() else 'cpu')\n",
        "device = torch.device('cpu')\n",
        "\n",
        "model = GCNModel(in_channels=dataset.num_node_features, hidden_channels=16, out_channels=dataset.num_classes).to(device)"
      ]
    },
    {
      "cell_type": "code",
      "execution_count": 6,
      "metadata": {
        "colab": {
          "base_uri": "https://localhost:8080/"
        },
        "id": "1rPSuNBoZF1I",
        "outputId": "5b90fd09-bc8c-45f5-c06e-d6ca3e9d3d1b"
      },
      "outputs": [
        {
          "data": {
            "text/plain": [
              "device(type='cpu')"
            ]
          },
          "execution_count": 6,
          "metadata": {},
          "output_type": "execute_result"
        }
      ],
      "source": [
        "device"
      ]
    },
    {
      "cell_type": "code",
      "execution_count": 7,
      "metadata": {
        "colab": {
          "base_uri": "https://localhost:8080/"
        },
        "id": "srQXRN1KYPQu",
        "outputId": "b85b39e5-4fd9-425f-d291-594b20ae2272"
      },
      "outputs": [
        {
          "data": {
            "text/plain": [
              "GCNModel(\n",
              "  (conv1): GCNConv(1433, 16)\n",
              "  (conv2): GCNConv(16, 7)\n",
              ")"
            ]
          },
          "execution_count": 7,
          "metadata": {},
          "output_type": "execute_result"
        }
      ],
      "source": [
        "model"
      ]
    },
    {
      "cell_type": "markdown",
      "metadata": {
        "id": "fiynZbteZwkV"
      },
      "source": [
        "# Задание 3. Обучить полученную модель, подобрать гиперпараметры (например, learning rate) на валидационной выборке, и оценить качество предсказания на тестовой выборке."
      ]
    },
    {
      "cell_type": "code",
      "execution_count": 8,
      "metadata": {
        "colab": {
          "base_uri": "https://localhost:8080/"
        },
        "id": "oLP4_B86ZLuE",
        "outputId": "01828023-2d47-400e-b495-829864528d38"
      },
      "outputs": [
        {
          "name": "stdout",
          "output_type": "stream",
          "text": [
            "Epoch 0: Train loss: 1.9527, Train acc: 0.7071, Val acc: 0.4220\n",
            "Epoch 30: Train loss: 0.0877, Train acc: 1.0000, Val acc: 0.7720\n",
            "Epoch 60: Train loss: 0.0215, Train acc: 1.0000, Val acc: 0.7680\n",
            "Epoch 90: Train loss: 0.0156, Train acc: 1.0000, Val acc: 0.7540\n",
            "Epoch 120: Train loss: 0.0060, Train acc: 1.0000, Val acc: 0.7680\n",
            "Epoch 150: Train loss: 0.0115, Train acc: 1.0000, Val acc: 0.7480\n",
            "Epoch 180: Train loss: 0.0069, Train acc: 1.0000, Val acc: 0.7520\n",
            "Test accuracy: 0.7700\n"
          ]
        }
      ],
      "source": [
        "data = data.to(device)\n",
        "\n",
        "optimizer = optim.Adam(model.parameters(), lr=1e-2)\n",
        "\n",
        "for epoch in range(200):\n",
        "    model.train()\n",
        "    optimizer.zero_grad()\n",
        "\n",
        "    out = model(data)\n",
        "    loss = F.nll_loss(out[data.train_mask], data.y[data.train_mask])\n",
        "    loss.backward()\n",
        "    optimizer.step()\n",
        "    train_loss = loss.item()\n",
        "\n",
        "    if epoch % 30 == 0:\n",
        "        model.eval()\n",
        "        with torch.no_grad():\n",
        "            pred = model(data).argmax(dim=1)\n",
        "        correct = pred[data.train_mask] == data.y[data.train_mask]\n",
        "        train_acc = int(correct.sum()) / data.train_mask.sum().item()\n",
        "        correct = pred[data.val_mask] == data.y[data.val_mask]\n",
        "        val_acc = int(correct.sum()) / data.val_mask.sum().item()\n",
        "        print(f'Epoch {epoch}: Train loss: {train_loss:.4f}, Train acc: {train_acc:.4f}, Val acc: {val_acc:.4f}')\n",
        "\n",
        "model.eval()\n",
        "with torch.no_grad():\n",
        "    pred = model(data).argmax(dim=1)\n",
        "    correct = pred[data.test_mask] == data.y[data.test_mask]\n",
        "    test_acc = int(correct.sum()) / data.test_mask.sum().item()\n",
        "print(f'Test accuracy: {test_acc:.4f}')"
      ]
    },
    {
      "cell_type": "markdown",
      "metadata": {
        "id": "0_sfpc5ifHnv"
      },
      "source": [
        "# Задание 4. Также представить самостоятельную реализацию слоя GCNConv, используя матричные операции. Повторить обучение с собственными слоями и сравнить результаты."
      ]
    },
    {
      "cell_type": "code",
      "execution_count": 9,
      "metadata": {
        "id": "6G3oujcdh_bc"
      },
      "outputs": [],
      "source": [
        "class CustomGCNConv(nn.Module):\n",
        "    def __init__(self, in_params, out_params):\n",
        "        super().__init__()\n",
        "        self.W = np.random.randn(in_params, out_params)\n",
        "        self.b = np.zeros((1, out_params))\n",
        "        self.A, self.X = None, None\n",
        "\n",
        "    def forward(self, X, A):\n",
        "        self.A = A\n",
        "        self.X = X\n",
        "        #подсчет лапласиана\n",
        "        D = np.diag(np.sum(A, axis = 1))\n",
        "        D_sqrt = np.sqrt(D)\n",
        "        D_inv = np.linalg.pinv(D_sqrt)\n",
        "        I = np.identity(len(A))\n",
        "        L = I - np.dot(D_inv, np.dot(A, D_inv))\n",
        "        return np.dot(np.dot(L, self.X), self.W) + self.b\n",
        "\n",
        "    def backward(self, er, lr):\n",
        "        D = np.diag(np.sum(self.A, axis = 1))\n",
        "        D_sqrt = np.sqrt(D)\n",
        "        D_inv = np.linalg.pinv(D_sqrt)\n",
        "        I = np.identity(len(self.A))\n",
        "        L = I - np.dot(D_inv, np.dot(self.A, D_inv))\n",
        "        out_data = np.dot(self.X.T, L)\n",
        "        gradW = np.dot(out_data, er)\n",
        "        gradb = np.sum(er, axis = 0, keepdims = True)\n",
        "        self.W -= lr * gradW\n",
        "        self.b -= lr * gradb\n",
        "        return np.dot(L.T, np.dot(er, self.W.T))"
      ]
    },
    {
      "cell_type": "code",
      "execution_count": 10,
      "metadata": {
        "id": "Yoz50pCVbkW9"
      },
      "outputs": [],
      "source": [
        "class CustomGCNModel(nn.Module):\n",
        "    def __init__(self, in_channels, hidden_channels, out_channels):\n",
        "        super().__init__()\n",
        "        self.conv1 = CustomGCNConv(in_channels, hidden_channels)\n",
        "        self.conv2 = CustomGCNConv(hidden_channels, out_channels)\n",
        "\n",
        "    def forward(self, x, edge_index):\n",
        "        x = self.conv1(x, edge_index)\n",
        "        x = x * (x > 0)\n",
        "        x = self.conv2(x, edge_index)\n",
        "        exp_x = np.exp(x - np.max(x, axis=-1, keepdims=True))\n",
        "        return exp_x / np.sum(exp_x, axis=-1, keepdims=True)\n",
        "\n",
        "    def backward(self, y, y_p, lr = 0.1):\n",
        "        er = (y_p - y) / y.shape[0]\n",
        "        grad2 = self.conv2.backward(er, lr)\n",
        "        grad1 = self.conv1.backward(grad2, lr)\n",
        "        return grad1, grad2"
      ]
    },
    {
      "cell_type": "code",
      "execution_count": 11,
      "metadata": {
        "id": "OyHDHLXifoWk"
      },
      "outputs": [],
      "source": [
        "model = CustomGCNModel(in_channels=dataset.num_node_features, hidden_channels=16, out_channels=dataset.num_classes).to(device)"
      ]
    },
    {
      "cell_type": "code",
      "execution_count": 12,
      "metadata": {
        "id": "fTRzVI1Mf28A"
      },
      "outputs": [],
      "source": [
        "A = np.zeros((data.num_nodes, data.num_nodes))\n",
        "edge_index = data.edge_index.cpu().numpy()\n",
        "A[edge_index[0], edge_index[1]] = 1\n",
        "A[edge_index[1], edge_index[0]] = 1"
      ]
    },
    {
      "cell_type": "code",
      "execution_count": 13,
      "metadata": {
        "id": "oSrYIF4yf7xZ"
      },
      "outputs": [],
      "source": [
        "y = data.y.cpu().numpy()\n",
        "y = np.eye(len(np.unique(data.y.cpu().numpy())))[y]"
      ]
    },
    {
      "cell_type": "code",
      "execution_count": 14,
      "metadata": {
        "id": "ciD6ZevSmybF"
      },
      "outputs": [],
      "source": [
        "def cross_entropy(y, p):\n",
        "  return - np.mean(np.sum(y * np.log(p + 1e-8), axis = 1))"
      ]
    },
    {
      "cell_type": "code",
      "execution_count": 15,
      "metadata": {
        "colab": {
          "base_uri": "https://localhost:8080/"
        },
        "id": "UWvC8Vhskl4s",
        "outputId": "ea80ffd2-7cd7-4596-a71d-a3ec73066638"
      },
      "outputs": [
        {
          "name": "stdout",
          "output_type": "stream",
          "text": [
            "epoch: 1, loss = 12.995828821910026\n",
            "epoch: 2, loss = 12.87107069098019\n",
            "epoch: 3, loss = 12.74313455548852\n",
            "epoch: 4, loss = 12.612586075647407\n",
            "epoch: 5, loss = 12.478948287962906\n",
            "epoch: 6, loss = 12.343273682130468\n",
            "epoch: 7, loss = 12.20627892083538\n",
            "epoch: 8, loss = 12.068337522222023\n",
            "epoch: 9, loss = 11.929646597574814\n"
          ]
        }
      ],
      "source": [
        "for epoch in range(1, 100):\n",
        "    out = model.forward(data.x, A)\n",
        "    loss = cross_entropy(y[data.train_mask], out[data.train_mask])\n",
        "    if epoch % 1 == 0:\n",
        "      print(f'epoch: {epoch}, loss = {loss}')\n",
        "    model.backward(y, out, lr = 0.1)"
      ]
    },
    {
      "cell_type": "markdown",
      "metadata": {
        "id": "QyxRmgiIneB-"
      },
      "source": [
        "Вывод: в случае кастомной модели GCN обучение идет дольше - требуется гораздо больше времени для сходимости, но при этом сходимость сторого монотонная, а у первого метода более стохастическая."
      ]
    }
  ],
  "metadata": {
    "accelerator": "GPU",
    "colab": {
      "gpuType": "T4",
      "provenance": []
    },
    "kernelspec": {
      "display_name": "Python 3",
      "name": "python3"
    },
    "language_info": {
      "name": "python"
    }
  },
  "nbformat": 4,
  "nbformat_minor": 0
}
